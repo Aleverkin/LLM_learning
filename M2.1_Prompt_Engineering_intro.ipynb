{
 "cells": [
  {
   "cell_type": "markdown",
   "id": "7706d01b-720f-4a0a-abc7-b368501cd2a2",
   "metadata": {
    "tags": []
   },
   "source": [
    "# <h1><center id=\"c1\"> 🤹‍♀️ `Prompt` `Engineering` - выжми из модели максимум </center></h1>"
   ]
  },
  {
   "cell_type": "code",
   "execution_count": 1,
   "id": "0a0dc993-6239-4b27-99b4-b752fb708538",
   "metadata": {
    "tags": []
   },
   "outputs": [],
   "source": [
    "import os\n",
    "from getpass import getpass\n",
    "import warnings\n",
    "warnings.filterwarnings('ignore')"
   ]
  },
  {
   "cell_type": "code",
   "execution_count": null,
   "id": "ffffea71",
   "metadata": {},
   "outputs": [],
   "source": [
    "import os \n",
    "\n",
    "course_api_key = os.environ['LLM_STEPIK_KEY']"
   ]
  },
  {
   "cell_type": "code",
   "execution_count": 2,
   "id": "bd76f574-b8e5-4820-96a4-972fc5ac25ad",
   "metadata": {
    "tags": []
   },
   "outputs": [
    {
     "name": "stdout",
     "output_type": "stream",
     "text": [
      "Введите API ключ ········\n"
     ]
    }
   ],
   "source": [
    "# Если используете ключ из курса, запустите эту ячейку\n",
    "from utils import ChatOpenAI\n",
    "\n",
    "# Инициализируем языковую модель\n",
    "llm = ChatOpenAI(temperature=0.0, course_api_key=course_api_key)"
   ]
  },
  {
   "cell_type": "markdown",
   "id": "5b36810b-f91b-4c86-b9bc-519ea40bd9fd",
   "metadata": {},
   "source": [
    "Напишем промпт"
   ]
  },
  {
   "cell_type": "code",
   "execution_count": 3,
   "id": "4fe3e165-4b7b-4216-bed4-66483b0e4105",
   "metadata": {
    "tags": []
   },
   "outputs": [],
   "source": [
    "prompt = \"\"\"Ответь на вопрос, опираясь на контекст ниже.\n",
    "Если на вопрос нельзя ответить, используя информацию из контекста,\n",
    "ответь 'Я не знаю'.\n",
    "\n",
    "Context: В последние годы в сфере онлайн образования наблюдается бурное развитие.\n",
    "Открывается большое количество платформ для хостинга курсов.\n",
    "Одни из самых крупных платформ в мире, это Coursera и Udemi.\n",
    "В России лидером является Stepik.\n",
    "\n",
    "Question: На каких онлайн платформах можно размещать курсы?\n",
    "\n",
    "Answer: \"\"\""
   ]
  },
  {
   "cell_type": "code",
   "execution_count": 5,
   "id": "35706991-4c0c-49c5-a209-292341ba64ef",
   "metadata": {
    "tags": []
   },
   "outputs": [
    {
     "name": "stdout",
     "output_type": "stream",
     "text": [
      "content='Coursera, Udemi, Stepik.'\n"
     ]
    }
   ],
   "source": [
    "print(llm.invoke(prompt))"
   ]
  },
  {
   "cell_type": "markdown",
   "id": "6bf3bda1-5d76-4f1e-862c-a09c6faf5afe",
   "metadata": {
    "tags": []
   },
   "source": [
    "## <center id=\"check1\"> 👯‍♀️ Добавление нескольких контекстов </center>"
   ]
  },
  {
   "cell_type": "code",
   "execution_count": 2,
   "id": "a5adc1d5-7d53-46ee-aa4f-5cf347731251",
   "metadata": {
    "tags": []
   },
   "outputs": [],
   "source": [
    "contexts = [\n",
    "    (\n",
    "        \"Large Language Models (LLMs) are the latest models used in NLP. \" +\n",
    "        \"Their superior performance over smaller models has made them incredibly \" +\n",
    "        \"useful for developers building NLP enabled applications. These models \" +\n",
    "        \"can be accessed via Hugging Face's `transformers` library, via OpenAI \" +\n",
    "        \"using the `openai` library, and via Cohere using the `cohere` library.\"\n",
    "    ),\n",
    "    (\n",
    "        \"To use OpenAI's GPT-3 model for completion (generation) tasks, you \" +\n",
    "        \"first need to get an API key from \" +\n",
    "        \"'https://beta.openai.com/account/api-keys'.\"\n",
    "    ),\n",
    "    (\n",
    "        \"OpenAI's API is accessible via Python using the `openai` library. \" +\n",
    "        \"After installing the library with pip you can use it as follows: \\n\" +\n",
    "        \"```import openai\\nopenai.api_key = 'YOUR_API_KEY'\\nprompt = \\n\" +\n",
    "        \"'<YOUR PROMPT>'\\nres = openai.Completion.create(engine='text-davinci\" +\n",
    "        \"-003', prompt=prompt, max_tokens=100)\\nprint(res)\"\n",
    "    )\n",
    "]"
   ]
  },
  {
   "cell_type": "markdown",
   "id": "8a273188-d683-4ff5-a55f-cdee670d8d20",
   "metadata": {},
   "source": [
    "Нам нужно ввести внешнюю информацию в наш промпт между первоначальными инструкциями и пользовательским вводом. Для моделей `OpenAI` рекомендуется отделять контексты от остальной части подсказки с помощью `###` или `\"\"\"`, а каждый независимый контекст можно отделить несколькими символами новой строки `\\n` и `##`, например:"
   ]
  },
  {
   "cell_type": "code",
   "execution_count": 3,
   "id": "d21491a7-9aaa-4334-825b-be22cea2a2c7",
   "metadata": {
    "tags": []
   },
   "outputs": [],
   "source": [
    "# Воспользуемся методом join для объединения контекстов в 1 строку с разделителем\n",
    "context_str = '\\n\\n##\\n\\n'.join(contexts)\n",
    "\n",
    "# Напишем промпт\n",
    "prompt = f\"\"\"Ответь на вопрос, опираясь на контекст ниже.\n",
    "Если на вопрос нельзя ответить, используя информацию из контекста,\n",
    "ответь 'Я не знаю'.\n",
    "\n",
    "###\n",
    "\n",
    "Contexts:\n",
    "{context_str}\n",
    "\n",
    "###\n",
    "\n",
    "Question: Дай мне 2 примера как использовать GPT-3 на Python\n",
    "\n",
    "Answer: \"\"\""
   ]
  },
  {
   "cell_type": "code",
   "execution_count": 30,
   "id": "9d016268-911a-4cc3-903a-d5de67e7e578",
   "metadata": {
    "tags": []
   },
   "outputs": [
    {
     "name": "stdout",
     "output_type": "stream",
     "text": [
      "1. Установите библиотеку `openai` с помощью pip и получите API ключ от OpenAI. Затем используйте функцию `openai.Completion.create()` для создания запроса к GPT-3 модели и получения ответа.\n",
      "2. Создайте переменную `prompt`, в которой будет содержаться текст, по которому GPT-3 будет генерировать продолжение. Передайте эту переменную в функцию `openai.Completion.create()` в качестве аргумента `prompt`.\n"
     ]
    }
   ],
   "source": [
    "llm = ChatOpenAI(temperature=0.0, course_api_key=course_api_key)\n",
    "print(llm.invoke(prompt).content)"
   ]
  },
  {
   "cell_type": "markdown",
   "id": "cd704489-0bd9-460f-a212-e9148d00c883",
   "metadata": {},
   "source": [
    "# <center id=\"check2\"> 🧐 Как посчитать расходуемые токены и деньги 💸?"
   ]
  },
  {
   "cell_type": "markdown",
   "id": "c0567d2f-0b02-4b8c-b4af-9134dfbed3d0",
   "metadata": {},
   "source": [
    "\n",
    "\n",
    "Учитывая, что нам может потребоваться ввести внешнюю информацию в наши промпты, они могут стать довольно большими. Максимальное контекстное окно LLM относится к токенам как в промпте, так и в тексте ответа. Для `text-davinci-003` это 4097 токенов. Однако измерение общего количества входных токенов является более сложным.\n",
    "Поскольку токены не сопоставляются непосредственно со словами, мы можем измерить количество токенов в тексте только путем фактической токенизации текста. Модели GPT используют токенизатор `TikToken` от `OpenAI`. Мы можем установить библиотеку через `Pip`:"
   ]
  },
  {
   "cell_type": "markdown",
   "id": "d619dc0d-a43c-443b-bebf-4b3fee1626c3",
   "metadata": {},
   "source": [
    "Используя токенайзер, можем посчитать количество токенов в предыдущем промпте:"
   ]
  },
  {
   "cell_type": "code",
   "execution_count": 4,
   "id": "1cd8599b-b42d-4e7c-a1ba-5ba40a111f54",
   "metadata": {
    "tags": []
   },
   "outputs": [
    {
     "data": {
      "text/plain": [
       "440"
      ]
     },
     "execution_count": 4,
     "metadata": {},
     "output_type": "execute_result"
    }
   ],
   "source": [
    "import tiktoken\n",
    "\n",
    "prompt = f\"\"\"Ответь на вопрос, опираясь на контекст ниже.\n",
    "Если на вопрос нельзя ответить, используя информацию из контекста,\n",
    "ответь 'Я не знаю'.\n",
    "\n",
    "###\n",
    "\n",
    "Contexts:\n",
    "{context_str}\n",
    "\n",
    "###\n",
    "\n",
    "Question: Дай мне 2 примера как использовать GPT-3 на Python\n",
    "\n",
    "Answer: \"\"\"\n",
    "\n",
    "encoder_name = 'p50k_base'\n",
    "tokenizer = tiktoken.get_encoding(encoder_name)\n",
    "\n",
    "len(tokenizer.encode(prompt))"
   ]
  },
  {
   "cell_type": "markdown",
   "id": "457ce060-ff8b-42e6-b427-0ff526d80e3c",
   "metadata": {},
   "source": [
    "\n",
    "\n",
    "Это мы получили количество токенов только в промпте, количество токенов для ответа модели регулируется праметром `max_tokens` (по умолчанию 256), указывается максимально возможная длина, т.е. не обязательно, что модель всегда будет расходовать весь доступный лимит токенов, но точно не будет превышать."
   ]
  },
  {
   "cell_type": "code",
   "execution_count": 17,
   "id": "bf3ee938-69b9-448c-9c83-907b943fbc53",
   "metadata": {
    "tags": []
   },
   "outputs": [
    {
     "name": "stdout",
     "output_type": "stream",
     "text": [
      "1. Установите библиотеку `openai` с помощью pip: `pip install openai`\n",
      "   Затем импортируйте ее и укажите ваш API-ключ:\n",
      "   ```python\n",
      "   import openai\n",
      "   openai.api_key = 'YOUR_API_KEY'\n",
      "   ```\n",
      "\n",
      "2. Создайте запрос к модели GPT-3, используя метод `Completion.create`:\n",
      "   ```python\n",
      "   prompt = '<YOUR PROMPT>'\n",
      "   res = openai.Completion.create(engine='text-davinci-003', prompt=prompt, max_tokens=100)\n",
      "   print(res)\n",
      "   ```\n",
      "   Здесь `prompt` - это текст, который вы хотите передать в модель, а `max_tokens` - это максимальное количество токенов в ответе модели.\n"
     ]
    }
   ],
   "source": [
    "llm = ChatOpenAI(temperature=0.0, course_api_key=course_api_key, max_tokens=512)\n",
    "print(llm.invoke(prompt).content)"
   ]
  },
  {
   "cell_type": "code",
   "execution_count": 18,
   "id": "c3d72e7d-1d1c-47c9-9a5a-4cae1168674a",
   "metadata": {
    "tags": []
   },
   "outputs": [
    {
     "data": {
      "text/plain": [
       "1275"
      ]
     },
     "execution_count": 18,
     "metadata": {},
     "output_type": "execute_result"
    }
   ],
   "source": [
    "len(tokenizer.encode(llm.invoke(prompt)))"
   ]
  },
  {
   "cell_type": "markdown",
   "id": "72935b77-18f1-404b-8351-75f01ac82562",
   "metadata": {},
   "source": [
    "\n",
    "\n",
    "Получаем 440 + 504 ~ 1000 токенов на 1 вопрос-ответ, при стоимости 1000 токенов `0.002$`. Т.е. 10 пользователей за 100 запросов сожгут уже `2$`. Причем окно контекста используется только на 1\\3. <br>\n",
    "Начинаем продумывать экономику своего сервиса 🤑"
   ]
  }
 ],
 "metadata": {
  "kernelspec": {
   "display_name": "llm_stepik",
   "language": "python",
   "name": "llm_stepik"
  },
  "language_info": {
   "codemirror_mode": {
    "name": "ipython",
    "version": 3
   },
   "file_extension": ".py",
   "mimetype": "text/x-python",
   "name": "python",
   "nbconvert_exporter": "python",
   "pygments_lexer": "ipython3",
   "version": "3.12.4"
  }
 },
 "nbformat": 4,
 "nbformat_minor": 5
}
