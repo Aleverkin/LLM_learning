{
 "cells": [
  {
   "cell_type": "code",
   "execution_count": 1,
   "id": "0a0dc993-6239-4b27-99b4-b752fb708538",
   "metadata": {
    "tags": []
   },
   "outputs": [],
   "source": [
    "import os\n",
    "from getpass import getpass\n",
    "import warnings\n",
    "warnings.filterwarnings('ignore')"
   ]
  },
  {
   "cell_type": "code",
   "execution_count": 2,
   "id": "ccd3083b-a534-4f4c-a008-d4eb822210ab",
   "metadata": {
    "jupyter": {
     "source_hidden": true
    },
    "tags": []
   },
   "outputs": [],
   "source": [
    "# # Если используете ключ от OpenAI, запустите эту ячейку\n",
    "# from langchain_openai import ChatOpenAI\n",
    "\n",
    "# os.environ['OPENAI_API_KEY'] = \"Введите ваш OpenAI API ключ\"\n",
    "\n",
    "# # инициализируем языковую модель\n",
    "# llm = ChatOpenAI(temperature=0.0)"
   ]
  },
  {
   "cell_type": "code",
   "execution_count": 3,
   "id": "bd76f574-b8e5-4820-96a4-972fc5ac25ad",
   "metadata": {
    "tags": []
   },
   "outputs": [],
   "source": [
    "# Если используете ключ из курса, запустите эту ячейку\n",
    "from utils import ChatOpenAI\n",
    "\n",
    "import os \n",
    "\n",
    "course_api_key = os.environ['LLM_STEPIK_KEY']\n",
    "\n",
    "# инициализируем языковую модель\n",
    "llm = ChatOpenAI(temperature=0.0, course_api_key=course_api_key)"
   ]
  },
  {
   "cell_type": "markdown",
   "id": "3daec071-4bca-43d9-b43d-da4385fd2511",
   "metadata": {},
   "source": [
    "# <center id=\"c2\"> 🧾 `Prompt` `template` - формируй промпт с кайфом!"
   ]
  },
  {
   "cell_type": "markdown",
   "id": "e4794dc9-1dcb-428f-9bd1-47295620fc95",
   "metadata": {},
   "source": [
    "Здесь на сцену выходит новая сущность из библиотеки `LangChain` - `Template`(Шаблон промпта). <br>\n",
    "Посмотрим как это можно сделать, на примере промпта использованного выше: вместо того, чтобы каждый раз писать промт напрямую, мы создаем `PromptTemplate` с запросом одной входной переменной."
   ]
  },
  {
   "cell_type": "code",
   "execution_count": 5,
   "id": "735f64eb-172a-478f-a19d-3344f2b974bc",
   "metadata": {
    "tags": []
   },
   "outputs": [],
   "source": [
    "from langchain import PromptTemplate\n",
    "\n",
    "template = \"\"\"Ответь на вопрос, опираясь на контекст ниже.\n",
    "Если на вопрос нельзя ответить, используя информацию из контекста,\n",
    "ответь 'Я не знаю'.\n",
    "\n",
    "Context: В последние годы в сфере онлайн образования наблюдается бурное развитие.\n",
    "Открывается большое количество платформ для хостинга курсов.\n",
    "Одни из самых крупных платформ в мире, это Coursera и Udemi.\n",
    "В России лидером является Stepik.\n",
    "\n",
    "Question: {query}\n",
    "\n",
    "Answer: \"\"\"\n",
    "\n",
    "prompt_template = PromptTemplate(\n",
    "    input_variables=[\"query\"],\n",
    "    template=template\n",
    ")"
   ]
  },
  {
   "cell_type": "code",
   "execution_count": 6,
   "id": "debb101d-2c85-4649-a80b-7454f5afd8f5",
   "metadata": {
    "tags": []
   },
   "outputs": [
    {
     "name": "stdout",
     "output_type": "stream",
     "text": [
      "Ответь на вопрос, опираясь на контекст ниже.\n",
      "Если на вопрос нельзя ответить, используя информацию из контекста,\n",
      "ответь 'Я не знаю'.\n",
      "\n",
      "Context: В последние годы в сфере онлайн образования наблюдается бурное развитие.\n",
      "Открывается большое количество платформ для хостинга курсов.\n",
      "Одни из самых крупных платформ в мире, это Coursera и Udemi.\n",
      "В России лидером является Stepik.\n",
      "\n",
      "Question: Какая платформа онлайн курсов популярна в России?\n",
      "\n",
      "Answer: \n"
     ]
    }
   ],
   "source": [
    "prompt = prompt_template.format(query=\"Какая платформа онлайн курсов популярна в России?\")\n",
    "print(prompt)"
   ]
  },
  {
   "cell_type": "code",
   "execution_count": 7,
   "id": "ca0abcfd-cd23-44c0-851f-3227c970d0f1",
   "metadata": {
    "tags": []
   },
   "outputs": [
    {
     "name": "stdout",
     "output_type": "stream",
     "text": [
      "Stepik\n"
     ]
    }
   ],
   "source": [
    "print(llm.invoke(prompt).content)"
   ]
  },
  {
   "cell_type": "code",
   "execution_count": 15,
   "id": "84aa7065-0bf7-4de1-9627-e08dda3810c9",
   "metadata": {
    "tags": []
   },
   "outputs": [
    {
     "name": "stdout",
     "output_type": "stream",
     "text": [
      "Я не знаю.\n"
     ]
    }
   ],
   "source": [
    "prompt = prompt_template.format(query=\"Какая платформа онлайн курсов популярна в Японии?\")\n",
    "print(llm.invoke(prompt).content)"
   ]
  },
  {
   "cell_type": "markdown",
   "id": "a421cce6-4bc6-4389-86fd-fb499f86531c",
   "metadata": {},
   "source": [
    "<div class=\"alert alert-info\">\n",
    "    \n",
    "* Это всего лишь простая реализация, которую мы можем легко заменить f-строками (например, `f\"вставить произвольный текст '{custom_text}'` и т. д.\").\n",
    "* Но используя объект `PromptTemplate` из `LangChain`, мы можем формализовать процесс, добавлять несколько параметров, создавать промпты объектно-ориентированным способом и много чего ещё.\n",
    "* В `langchain.prompts` можно найти большое количество готовых классов с шаблонами на разные случаи жизни. <br>"
   ]
  },
  {
   "cell_type": "markdown",
   "id": "9876eb4f-0a3b-4be1-a043-c1be02f7a576",
   "metadata": {},
   "source": [
    "Познакомимся с некоторыми из них подробнее:"
   ]
  },
  {
   "cell_type": "markdown",
   "id": "a8aa9c28-77a7-4ac1-83e9-2c481b509d8b",
   "metadata": {},
   "source": [
    "## <center id=\"look1\">🗣 [`ChatPromptTemplate`](https://api.python.langchain.com/en/latest/prompts/langchain.prompts.chat.ChatPromptTemplate.html) - шаблон для чатового режима </center>\n",
    "Простой класс, позволяющий удобно создавать шаблоны промптов для использования LLM в режиме чата."
   ]
  },
  {
   "cell_type": "code",
   "execution_count": 6,
   "id": "25e4f806",
   "metadata": {
    "tags": []
   },
   "outputs": [],
   "source": [
    "from langchain.prompts import ChatPromptTemplate\n",
    "\n",
    "# Немного перепишем предыдущий пример, чтобы была возможность подавать новый контекст\n",
    "template = \"\"\"Ответь на вопрос, опираясь на контекст ниже.\n",
    "Если на вопрос нельзя ответить, используя информацию из контекста,\n",
    "ответь 'Я не знаю'.\n",
    "\n",
    "Context: {context}\n",
    "\n",
    "Question: {query}\n",
    "\n",
    "Answer: \"\"\"\n",
    "\n",
    "# Создаём шаблон с помощью метода from_template\n",
    "prompt_template = ChatPromptTemplate.from_template(template)"
   ]
  },
  {
   "cell_type": "code",
   "execution_count": 11,
   "id": "abedd317",
   "metadata": {
    "tags": []
   },
   "outputs": [],
   "source": [
    "context = \"Ламы и альпаки водятся в Перу.\"\n",
    "query = \"Где водятся ламы?\""
   ]
  },
  {
   "cell_type": "code",
   "execution_count": 12,
   "id": "9d8bf1e1",
   "metadata": {
    "tags": []
   },
   "outputs": [
    {
     "name": "stdout",
     "output_type": "stream",
     "text": [
      "Ответь на вопрос, опираясь на контекст ниже.\n",
      "Если на вопрос нельзя ответить, используя информацию из контекста,\n",
      "ответь 'Я не знаю'.\n",
      "\n",
      "Context: Ламы и альпаки водятся в Перу.\n",
      "\n",
      "Question: Где водятся ламы?\n",
      "\n",
      "Answer: \n"
     ]
    }
   ],
   "source": [
    "# формируем промпт из шаблона с помощью метода format_messages\n",
    "prompt = prompt_template.format_messages(\n",
    "                    query=query,\n",
    "                    context=context)\n",
    "\n",
    "print(prompt[0].content)"
   ]
  },
  {
   "cell_type": "code",
   "execution_count": 14,
   "id": "3abb3cd5",
   "metadata": {
    "tags": []
   },
   "outputs": [
    {
     "name": "stdout",
     "output_type": "stream",
     "text": [
      "content='В Перу.'\n",
      "В Перу.\n"
     ]
    }
   ],
   "source": [
    "answer = llm.invoke(prompt)\n",
    "print(answer.content)"
   ]
  },
  {
   "cell_type": "markdown",
   "id": "865a8808-ba0f-499d-a97b-0872c814d919",
   "metadata": {},
   "source": [
    "## <center id=\"check1\"> 📸 `FewShotPromptTemplate` - для добавления примеров</center>"
   ]
  },
  {
   "cell_type": "code",
   "execution_count": 26,
   "id": "96ec0305-604a-47b2-bbea-f43eb894e437",
   "metadata": {
    "tags": []
   },
   "outputs": [],
   "source": [
    "from langchain import FewShotPromptTemplate\n",
    "\n",
    "# записываем наши примеры в список (в будущем это будет автоматизированно)\n",
    "examples = [\n",
    "    {\n",
    "        \"query\": \"Как дела?\",\n",
    "        \"answer\": \"Не могу пожаловаться, но иногда всё-таки жалуюсь.\"\n",
    "    }, \n",
    "    {\n",
    "        \"query\": \"Сколько время?\",\n",
    "        \"answer\": \"Самое время купить часы.\"\n",
    "    }\n",
    "]\n",
    "\n",
    "# создаём template для примеров\n",
    "example_template = \"\"\"User: {query}\n",
    "AI: {answer}\n",
    "\"\"\"\n",
    "\n",
    "# создаём промпт из шаблона выше\n",
    "example_prompt = PromptTemplate(\n",
    "    input_variables=[\"query\", \"answer\"],\n",
    "    template=example_template)\n",
    "\n",
    "\n",
    "# теперь разбиваем наш предыдущий промпт на prefix и suffix\n",
    "# где - prefix это наша инструкция для модели\n",
    "prefix = \"\"\"Это разговор с ИИ-помощником.\n",
    "Помощник обычно саркастичен, остроумен, креативен\n",
    "и даёт забавные ответы на вопросы пользователей.\n",
    "Вот несколько примеров:\n",
    "\"\"\"\n",
    "\n",
    "# а suffix - это вопрос пользователя и поле для ответа\n",
    "suffix = \"\"\"\n",
    "User: {query}\n",
    "AI: \"\"\"\n",
    "\n",
    "# создаём сам few shot prompt template\n",
    "few_shot_prompt_template = FewShotPromptTemplate(\n",
    "    examples=examples,\n",
    "    example_prompt=example_prompt,\n",
    "    prefix=prefix,\n",
    "    suffix=suffix,\n",
    "    input_variables=[\"query\"],\n",
    "    example_separator=\"\\n\\n\"\n",
    ")"
   ]
  },
  {
   "cell_type": "code",
   "execution_count": 27,
   "id": "dc233702-77fd-4483-8494-17126b7fca66",
   "metadata": {
    "tags": []
   },
   "outputs": [
    {
     "name": "stdout",
     "output_type": "stream",
     "text": [
      "Это разговор с ИИ-помощником.\n",
      "Помощник обычно саркастичен, остроумен, креативен\n",
      "и даёт забавные ответы на вопросы пользователей.\n",
      "Вот несколько примеров:\n",
      "\n",
      "\n",
      "User: Как дела?\n",
      "AI: Не могу пожаловаться, но иногда всё-таки жалуюсь.\n",
      "\n",
      "\n",
      "User: Сколько время?\n",
      "AI: Самое время купить часы.\n",
      "\n",
      "\n",
      "\n",
      "User: Почему падает снег?\n",
      "AI: \n"
     ]
    }
   ],
   "source": [
    "query = \"Почему падает снег?\"\n",
    "\n",
    "print(few_shot_prompt_template.format(query=query))"
   ]
  },
  {
   "cell_type": "code",
   "execution_count": 35,
   "id": "a6b5138c-8c37-48f8-99a5-26442417b780",
   "metadata": {
    "tags": []
   },
   "outputs": [
    {
     "name": "stdout",
     "output_type": "stream",
     "text": [
      "Потому что небо не умеет держать себя в руках.\n"
     ]
    }
   ],
   "source": [
    "print(llm.invoke(few_shot_prompt_template.format(query=query)).content)"
   ]
  },
  {
   "cell_type": "markdown",
   "id": "2e302627-4e03-4e9f-b40d-7de584456a10",
   "metadata": {},
   "source": [
    "## <center id=\"check2\">  📏 `LengthBasedExampleSelector` - как `few-shot`, но с ограничением числа токенов/примеров"
   ]
  },
  {
   "cell_type": "code",
   "execution_count": 28,
   "id": "d7ba95d0-ef49-4121-8d25-1d6041e47720",
   "metadata": {
    "tags": []
   },
   "outputs": [],
   "source": [
    "examples = [\n",
    "    {\n",
    "        \"query\": \"Как дела?\",\n",
    "        \"answer\": \"Не могу пожаловаться, но иногда всё-таки жалуюсь.\"\n",
    "    }, {\n",
    "        \"query\": \"Сколько время?\",\n",
    "        \"answer\": \"Самое время купить часы.\"\n",
    "    }, {\n",
    "        \"query\": \"Какое твое любимое блюдо\",\n",
    "        \"answer\": \"Углеродные формы жизни\"\n",
    "    }, {\n",
    "        \"query\": \"Кто твой лучший друг?\",\n",
    "        \"answer\": \"Siri. Мы любим с ней рассуждать о смысле жизни.\"\n",
    "    }, {\n",
    "        \"query\": \"Что посоветуешь мне сделать сегодня?\",\n",
    "        \"answer\": \"Перестать разговаривать с чат-ботами в интернете и выйти на улицу.\"\n",
    "    }, {\n",
    "        \"query\": \"Какой твой любимый фильм?\",\n",
    "        \"answer\": \"Терминатор, конечно.\"\n",
    "    }\n",
    "]"
   ]
  },
  {
   "cell_type": "markdown",
   "id": "85809849-e656-46f4-8b74-35463d13a4e8",
   "metadata": {},
   "source": [
    "Затем вместо того, чтобы напрямую использовать список примеров, мы используем `LengthBasedExampleSelector` следующим образом:"
   ]
  },
  {
   "cell_type": "code",
   "execution_count": 29,
   "id": "abfc2238-8883-4255-8ae0-cb1bd598303c",
   "metadata": {
    "tags": []
   },
   "outputs": [],
   "source": [
    "from langchain.prompts.example_selector import LengthBasedExampleSelector\n",
    "\n",
    "example_selector = LengthBasedExampleSelector(\n",
    "    examples=examples,\n",
    "    example_prompt=example_prompt,\n",
    "    max_length=50  # параметром выставляется максимальная длина примера\n",
    ")"
   ]
  },
  {
   "cell_type": "code",
   "execution_count": 30,
   "id": "496499ff-08e0-4ca9-adf5-9468550cd4ce",
   "metadata": {
    "tags": []
   },
   "outputs": [],
   "source": [
    "# создаём новый few shot prompt template\n",
    "dynamic_prompt_template = FewShotPromptTemplate(\n",
    "    example_selector=example_selector,  # используем example_selector вместо examples\n",
    "    example_prompt=example_prompt,\n",
    "    prefix=prefix,\n",
    "    suffix=suffix,\n",
    "    input_variables=[\"query\"],\n",
    "    example_separator=\"\\n\"\n",
    ")"
   ]
  },
  {
   "cell_type": "markdown",
   "id": "dfcf8877-369b-4723-beb9-6dfcb12dd297",
   "metadata": {
    "tags": []
   },
   "source": [
    "Теперь в зависимости от длины запроса, количество примеров будет разным:"
   ]
  },
  {
   "cell_type": "code",
   "execution_count": 31,
   "id": "c1394390-86d3-4396-baf4-18b6be886aa9",
   "metadata": {
    "tags": []
   },
   "outputs": [
    {
     "name": "stdout",
     "output_type": "stream",
     "text": [
      "Это разговор с ИИ-помощником.\n",
      "Помощник обычно саркастичен, остроумен, креативен\n",
      "и даёт забавные ответы на вопросы пользователей.\n",
      "Вот несколько примеров:\n",
      "\n",
      "User: Как дела?\n",
      "AI: Не могу пожаловаться, но иногда всё-таки жалуюсь.\n",
      "\n",
      "User: Сколько время?\n",
      "AI: Самое время купить часы.\n",
      "\n",
      "User: Какое твое любимое блюдо\n",
      "AI: Углеродные формы жизни\n",
      "\n",
      "\n",
      "User: Не могу вспомнить пароль\n",
      "AI: \n"
     ]
    }
   ],
   "source": [
    "prompt = dynamic_prompt_template.format(query=\"Не могу вспомнить пароль\")\n",
    "print(prompt)"
   ]
  },
  {
   "cell_type": "code",
   "execution_count": 39,
   "id": "bdcc04f2-8bf9-4973-9a9c-47cabf76ea14",
   "metadata": {
    "tags": []
   },
   "outputs": [
    {
     "name": "stdout",
     "output_type": "stream",
     "text": [
      "Забыть пароль - это новый тренд!\n"
     ]
    }
   ],
   "source": [
    "print(llm.invoke(prompt).content)"
   ]
  },
  {
   "cell_type": "markdown",
   "id": "36adc22e",
   "metadata": {},
   "source": [
    "## <center id=\"check4\"> ⏯ [`StructuredOutputParser`](https://python.langchain.com/docs/modules/model_io/output_parsers/structured) - разбираем ответ из LLM в Python словарь."
   ]
  },
  {
   "cell_type": "code",
   "execution_count": 44,
   "id": "01ddfa06",
   "metadata": {
    "tags": []
   },
   "outputs": [],
   "source": [
    "from langchain.output_parsers import ResponseSchema\n",
    "from langchain.output_parsers import StructuredOutputParser"
   ]
  },
  {
   "cell_type": "code",
   "execution_count": null,
   "id": "ac3f59ef",
   "metadata": {
    "tags": []
   },
   "outputs": [],
   "source": [
    "# Понадобится ещё одна сущность: схема ответа - ResponseSchema\n",
    "gift_schema = ResponseSchema(name=\"gift\",\n",
    "                             description=\"Был ли товар куплен в подарок кому-то другому? Ответь «True», если да, «False», если нет или неизвестно.\")\n",
    "\n",
    "delivery_days_schema = ResponseSchema(name=\"delivery_days\",\n",
    "                                      description=\"Сколько дней потребовалось для доставки товара? Если эта информация не найдена, выведи -1.\")\n",
    "\n",
    "price_value_schema = ResponseSchema(name=\"price_value\",\n",
    "                                    description=\"Извлеките любые предложения о стоимости или цене, и выведите их в виде списка Python, разделенного запятыми.\")\n",
    "\n",
    "response_schemas = [gift_schema, \n",
    "                    delivery_days_schema,\n",
    "                    price_value_schema]\n",
    "\n",
    "# Создаём парсер и подаём в него список со схемами\n",
    "output_parser = StructuredOutputParser.from_response_schemas(response_schemas)\n",
    "\n",
    "# получаем инструкции по форматированию ответа\n",
    "format_instructions = output_parser.get_format_instructions()"
   ]
  },
  {
   "cell_type": "code",
   "execution_count": 48,
   "id": "d8950f7d",
   "metadata": {
    "tags": []
   },
   "outputs": [
    {
     "name": "stdout",
     "output_type": "stream",
     "text": [
      "The output should be a markdown code snippet formatted in the following schema, including the leading and trailing \"```json\" and \"```\":\n",
      "\n",
      "```json\n",
      "{\n",
      "\t\"gift\": string  // Был ли товар куплен в подарок кому-то другому? Ответь «True», если да, «False», если нет или неизвестно.\n",
      "\t\"delivery_days\": string  // Сколько дней потребовалось для доставки товара? Если эта информация не найдена, выведи -1.\n",
      "\t\"price_value\": string  // Извлеките любые предложения о стоимости или цене, и выведите их в виде списка Python, разделенного запятыми.\n",
      "}\n",
      "```\n"
     ]
    }
   ],
   "source": [
    "print(format_instructions)"
   ]
  },
  {
   "cell_type": "code",
   "execution_count": 49,
   "id": "7e090df3",
   "metadata": {
    "tags": []
   },
   "outputs": [],
   "source": [
    "# немного изменим шаблон, внизу добавим инструкции для форматирования\n",
    "review_template_2 = \"\"\"\\\n",
    "Из следующего текста извлеки информацию:\n",
    "\n",
    "gift: Был ли товар куплен в подарок кому-то другому?\n",
    "Ответь «True», если да, «False», если нет или неизвестно.\n",
    "\n",
    "delivery_days: Сколько дней потребовалось для доставки товара? \n",
    "Если эта информация не найдена, выведи -1.\n",
    "\n",
    "price_value: Извлеките любые предложения о стоимости или цене,\n",
    "и выведите их в виде списка Python, разделенного запятыми.\n",
    "\n",
    "text: {text}\n",
    "\n",
    "{format_instructions}\n",
    "\n",
    "\"\"\"\n",
    "\n",
    "prompt = ChatPromptTemplate.from_template(template=review_template_2)"
   ]
  },
  {
   "cell_type": "code",
   "execution_count": null,
   "id": "0f32b173",
   "metadata": {},
   "outputs": [],
   "source": [
    "customer_review = \"\"\"\n",
    "Этот фен для волос просто потрясающий. Он имеет четыре настройки:\n",
    "Лайт, легкий ветерок, ветреный город и торнадо.\n",
    "Он прибыл через два дня, как раз к приезду моей жены -\n",
    "подарок на годовщину.\n",
    "Думаю, моей жене это настолько понравилось, что она потеряла дар речи.\n",
    "Этот фен немного дороже, чем другие но я думаю,\n",
    "что дополнительные функции того стоят.\n",
    "\"\"\"\n",
    "\n",
    "messages = prompt.format_messages(text=customer_review, \n",
    "                                format_instructions=format_instructions)"
   ]
  },
  {
   "cell_type": "code",
   "execution_count": 50,
   "id": "26949bba",
   "metadata": {
    "tags": []
   },
   "outputs": [
    {
     "name": "stdout",
     "output_type": "stream",
     "text": [
      "Из следующего текста извлеки информацию:\n",
      "\n",
      "gift: Был ли товар куплен в подарок кому-то другому?\n",
      "Ответь «True», если да, «False», если нет или неизвестно.\n",
      "\n",
      "delivery_days: Сколько дней потребовалось для доставки товара? \n",
      "Если эта информация не найдена, выведи -1.\n",
      "\n",
      "price_value: Извлеките любые предложения о стоимости или цене,\n",
      "и выведите их в виде списка Python, разделенного запятыми.\n",
      "\n",
      "text: \n",
      "Этот фен для волос просто потрясающий. Он имеет четыре настройки:\n",
      "Лайт, легкий ветерок, ветреный город и торнадо.\n",
      "Он прибыл через два дня, как раз к приезду моей жены -\n",
      "подарок на годовщину.\n",
      "Думаю, моей жене это настолько понравилось, что она потеряла дар речи.\n",
      "Этот фен немного дороже, чем другие но я думаю,\n",
      "что дополнительные функции того стоят.\n",
      "\n",
      "\n",
      "The output should be a markdown code snippet formatted in the following schema, including the leading and trailing \"```json\" and \"```\":\n",
      "\n",
      "```json\n",
      "{\n",
      "\t\"gift\": string  // Был ли товар куплен в подарок кому-то другому? Ответь «True», если да, «False», если нет или неизвестно.\n",
      "\t\"delivery_days\": string  // Сколько дней потребовалось для доставки товара? Если эта информация не найдена, выведи -1.\n",
      "\t\"price_value\": string  // Извлеките любые предложения о стоимости или цене, и выведите их в виде списка Python, разделенного запятыми.\n",
      "}\n",
      "```\n",
      "\n",
      "\n"
     ]
    }
   ],
   "source": [
    "# Посмотрим на получившийся промпт\n",
    "print(messages[0].content)"
   ]
  },
  {
   "cell_type": "code",
   "execution_count": 52,
   "id": "b71548e7",
   "metadata": {
    "tags": []
   },
   "outputs": [
    {
     "name": "stdout",
     "output_type": "stream",
     "text": [
      "```json\n",
      "{\n",
      "\t\"gift\": \"True\",\n",
      "\t\"delivery_days\": \"2\",\n",
      "\t\"price_value\": \"Этот фен немного дороже, чем другие\"\n",
      "}\n",
      "```\n"
     ]
    }
   ],
   "source": [
    "response = chat.invoke(messages)\n",
    "\n",
    "print(response.content)"
   ]
  },
  {
   "cell_type": "code",
   "execution_count": 54,
   "id": "5b6b2ff3",
   "metadata": {
    "tags": []
   },
   "outputs": [],
   "source": [
    "output_dict = output_parser.parse(response.content)"
   ]
  },
  {
   "cell_type": "code",
   "execution_count": 55,
   "id": "a3d15384",
   "metadata": {},
   "outputs": [
    {
     "data": {
      "text/plain": [
       "{'gift': 'True',\n",
       " 'delivery_days': '2',\n",
       " 'price_value': 'Этот фен немного дороже, чем другие'}"
      ]
     },
     "execution_count": 55,
     "metadata": {},
     "output_type": "execute_result"
    }
   ],
   "source": [
    "output_dict"
   ]
  }
 ],
 "metadata": {
  "kernelspec": {
   "display_name": "llm_stepik",
   "language": "python",
   "name": "llm_stepik"
  },
  "language_info": {
   "codemirror_mode": {
    "name": "ipython",
    "version": 3
   },
   "file_extension": ".py",
   "mimetype": "text/x-python",
   "name": "python",
   "nbconvert_exporter": "python",
   "pygments_lexer": "ipython3",
   "version": "3.12.4"
  }
 },
 "nbformat": 4,
 "nbformat_minor": 5
}
